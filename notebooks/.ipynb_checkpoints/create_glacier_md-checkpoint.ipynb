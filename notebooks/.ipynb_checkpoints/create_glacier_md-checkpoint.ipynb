{
 "cells": [
  {
   "cell_type": "code",
   "execution_count": 1,
   "id": "0388469a-aca0-4d18-84ee-fc66ba197cd7",
   "metadata": {
    "tags": []
   },
   "outputs": [],
   "source": [
    "import os\n",
    "import pandas as pd\n",
    "import math\n",
    "import json"
   ]
  },
  {
   "cell_type": "markdown",
   "id": "f0abd8ac-5604-4086-9fcb-18667a761bcc",
   "metadata": {},
   "source": [
    "# function for creating md files"
   ]
  },
  {
   "cell_type": "code",
   "execution_count": 15,
   "id": "6c461aa1-302e-49fc-b267-b2a015201b62",
   "metadata": {
    "tags": []
   },
   "outputs": [],
   "source": [
    "def create_markdown_from_csv(csv_filepath, output_path):\n",
    "    # Read the CSV file with 'rgi_id' as the index\n",
    "    df = pd.read_csv(csv_filepath, index_col=0)\n",
    "    \n",
    "    # Ensure the output directory exists\n",
    "    if not os.path.exists(output_path):\n",
    "        os.makedirs(output_path)\n",
    "    \n",
    "    # Iterate through each row in the DataFrame and create markdown files\n",
    "    for index, row in df.iterrows():\n",
    "        markdown_content = \"---\\n\"\n",
    "        \n",
    "        # Replace '.' with '_' in the rgi_id (index)\n",
    "        index_sanitized = index.replace('.', '_')\n",
    "        \n",
    "        # Add the rgi_id (index) to the markdown\n",
    "        markdown_content += f\"rgi_id: {index}\\n\"\n",
    "        \n",
    "        # Go through each column in the row, replacing '.' with '_'\n",
    "        for column, value in row.items():\n",
    "            # Replace '.' with '_' in the column names\n",
    "            column_name = column.replace('.', '_')\n",
    "            # Check if the value is not NaN\n",
    "            if not (isinstance(value, float) and math.isnan(value)):\n",
    "                if column_name == 'name':\n",
    "                    column_name = 'title'\n",
    "                # Add each key-value pair to the markdown, except for NaN values\n",
    "                markdown_content += f\"{column_name}: {value}\\n\"\n",
    "        \n",
    "        # Add image paths with sanitized rgi_id (index)\n",
    "        markdown_content += f\"image_volume_simple: /assets/images/{index}_simple_en_only_oggm_v0.png\\n\"\n",
    "        markdown_content += f\"image_volume_complex: /assets/images/{index}_complex_en_only_oggm_v0.png\\n\"\n",
    "        \n",
    "        # add header\n",
    "        markdown_content += \"header:\\n\"\n",
    "        markdown_content += f\"  overlay_image: /assets/images/{row['photo']}\\n\"\n",
    "        markdown_content += f\"  teaser: /assets/images/{row['photo']}\\n\"\n",
    "        markdown_content += '  caption: \"Photo credit: ' + f'{row[\"photo_credit\"]}\"\\n'\n",
    "        \n",
    "        # end file\n",
    "        markdown_content += \"---\\n\"\n",
    "        \n",
    "        # add contant what is visible below the heading\n",
    "        markdown_content += \"{{ page.country }}, gone around {{ page.deglac_yr_2_7deg_10perc_q50 | floor }}\\n\"\n",
    "        \n",
    "        # Define the markdown file name based on rgi_id\n",
    "        filename = f\"{index}.md\"\n",
    "        file_path = os.path.join(output_path, filename)\n",
    "        \n",
    "        # Write the markdown content to a file\n",
    "        with open(file_path, 'w') as file:\n",
    "            file.write(markdown_content)\n",
    "    \n",
    "    print(f\"Markdown files have been created in {output_path}.\")"
   ]
  },
  {
   "cell_type": "markdown",
   "id": "c35135d2-5233-4d65-8cd1-19a494b5dba3",
   "metadata": {},
   "source": [
    "# Function for creating dictionaries for animations"
   ]
  },
  {
   "cell_type": "code",
   "execution_count": 3,
   "id": "09d14f6a-7d79-4574-ab43-f3e5b531ccd6",
   "metadata": {
    "tags": []
   },
   "outputs": [],
   "source": [
    "def create_glaciers_dict(csv_filepath, output_json_path):\n",
    "    # Read the CSV file with 'rgi_id' as the index\n",
    "    df = pd.read_csv(csv_filepath, index_col=0)\n",
    "    \n",
    "    # Iterate through each row in the DataFrame\n",
    "    for index, row in df.iterrows():\n",
    "        # Add each glacier's dictionary with only 'name' initially\n",
    "        glaciers_dict = {'name': row['name']}\n",
    "    \n",
    "        # Save the dictionary as a JSON file\n",
    "        with open(os.path.join(output_json_path,\n",
    "                               f'{index}.json')\n",
    "                  , 'w') as json_file:\n",
    "            json.dump(glaciers_dict, json_file, indent=4)\n",
    "    \n",
    "    print(f\"Dictionaris saved to {output_json_path}.\")"
   ]
  },
  {
   "cell_type": "markdown",
   "id": "b6768fb6-4c5f-45a7-821a-3e0dc240c109",
   "metadata": {},
   "source": [
    "# Create miniexample for demonstartion"
   ]
  },
  {
   "cell_type": "code",
   "execution_count": 6,
   "id": "1b62e46f-abe4-41a1-9287-597a6f9bc14a",
   "metadata": {
    "tags": []
   },
   "outputs": [],
   "source": [
    "df = pd.read_csv('glacier_data_deglaciation_v0.csv', index_col=0)"
   ]
  },
  {
   "cell_type": "code",
   "execution_count": 7,
   "id": "e9410c6c-c874-420a-ab5f-8577ae5826ed",
   "metadata": {
    "tags": []
   },
   "outputs": [],
   "source": [
    "mini_example_glaciers = [\n",
    "    'RGI60-11.00897', 'RGI60-11.00106',\n",
    "    'RGI60-11.01238', 'RGI60-11.03887',\n",
    "    'RGI60-11.03671'\n",
    "]"
   ]
  },
  {
   "cell_type": "code",
   "execution_count": 8,
   "id": "fde813f3-d49a-48e3-b1d0-59d16598c201",
   "metadata": {
    "tags": []
   },
   "outputs": [],
   "source": [
    "df_mini = df.loc[mini_example_glaciers]"
   ]
  },
  {
   "cell_type": "code",
   "execution_count": 12,
   "id": "e53a62b4-ff17-472c-9efe-17c3b0768984",
   "metadata": {
    "tags": []
   },
   "outputs": [],
   "source": [
    "df_mini['country'] = ['Austria', 'Austria', 'Switzerland', 'Italy', 'France']\n",
    "df_mini.loc['RGI60-11.03671', ('name')] = 'Gebroulaz'\n",
    "df_mini['photo'] = [\n",
    "    'Hintereisferner_large.jpg',\n",
    "    'Pasterze_large.jpg',\n",
    "    'Rhone.jpeg',\n",
    "    'marmolada.jpg',\n",
    "    'gebroulaz.jpg',\n",
    "]\n",
    "df_mini['photo_credit'] = [\n",
    "    'Lambrecht A., 2006',\n",
    "    'Gernot Weyss, 2015',\n",
    "    'Remeo Walser, 2018',\n",
    "    'Huss Matthias, 2009',\n",
    "    'Peccini Stephan, 2014',\n",
    "]\n",
    "df_mini['video_2_7'] = [\n",
    "    '/assets/videos/Hintereisferner_+2.7°C.mp4',\n",
    "    '/assets/videos/Pasterze_+2.7°C.mp4',\n",
    "    '/assets/videos/Rhone_+2.7°C.mp4',\n",
    "    '/assets/videos/Marmolada_+2.7°C.mp4',\n",
    "    '/assets/videos/Gebroulaz_+2.7°C.mp4',\n",
    "]"
   ]
  },
  {
   "cell_type": "code",
   "execution_count": 13,
   "id": "1fd3d98f-9d03-43d1-bba5-f7fd15d64308",
   "metadata": {
    "tags": []
   },
   "outputs": [],
   "source": [
    "df_mini.to_csv('mini_example.csv')"
   ]
  },
  {
   "cell_type": "code",
   "execution_count": 16,
   "id": "01a0808e-f5db-47d2-9286-294717d3d2fd",
   "metadata": {
    "tags": []
   },
   "outputs": [
    {
     "name": "stdout",
     "output_type": "stream",
     "text": [
      "Markdown files have been created in ../_glaciers/.\n"
     ]
    }
   ],
   "source": [
    "output_path = '../_glaciers/'\n",
    "create_markdown_from_csv('mini_example.csv', output_path)"
   ]
  },
  {
   "cell_type": "code",
   "execution_count": 44,
   "id": "256ed320-399f-4e88-827c-8704758e11de",
   "metadata": {
    "tags": []
   },
   "outputs": [
    {
     "data": {
      "text/html": [
       "<div>\n",
       "<style scoped>\n",
       "    .dataframe tbody tr th:only-of-type {\n",
       "        vertical-align: middle;\n",
       "    }\n",
       "\n",
       "    .dataframe tbody tr th {\n",
       "        vertical-align: top;\n",
       "    }\n",
       "\n",
       "    .dataframe thead th {\n",
       "        text-align: right;\n",
       "    }\n",
       "</style>\n",
       "<table border=\"1\" class=\"dataframe\">\n",
       "  <thead>\n",
       "    <tr style=\"text-align: right;\">\n",
       "      <th></th>\n",
       "      <th>CenLon</th>\n",
       "      <th>CenLat</th>\n",
       "      <th>name</th>\n",
       "      <th>deglac_yr_2.7deg_10perc_q50</th>\n",
       "      <th>deglac_yr_2.7deg_10perc_q17</th>\n",
       "      <th>deglac_yr_2.7deg_10perc_q83</th>\n",
       "      <th>vol2020_km3</th>\n",
       "      <th>fig_proj_simple_en</th>\n",
       "      <th>fig_proj_complex_en</th>\n",
       "      <th>country</th>\n",
       "      <th>photo</th>\n",
       "      <th>photo_credit</th>\n",
       "    </tr>\n",
       "  </thead>\n",
       "  <tbody>\n",
       "    <tr>\n",
       "      <th>RGI60-11.00897</th>\n",
       "      <td>10.7584</td>\n",
       "      <td>46.8003</td>\n",
       "      <td>Hintereisferner</td>\n",
       "      <td>2052.0</td>\n",
       "      <td>2047.0</td>\n",
       "      <td>2070.0</td>\n",
       "      <td>0.398</td>\n",
       "      <td>RGI60-11.00897_simple_en_only_oggm_v0.png</td>\n",
       "      <td>RGI60-11.00897_complex_en_only_oggm_v0.png</td>\n",
       "      <td>Austria</td>\n",
       "      <td>Hintereisferner_large.jpg</td>\n",
       "      <td>Lambrecht A., 2006</td>\n",
       "    </tr>\n",
       "    <tr>\n",
       "      <th>RGI60-11.00106</th>\n",
       "      <td>12.6967</td>\n",
       "      <td>47.0991</td>\n",
       "      <td>Pasterze</td>\n",
       "      <td>2065.0</td>\n",
       "      <td>2059.0</td>\n",
       "      <td>2080.0</td>\n",
       "      <td>1.194</td>\n",
       "      <td>RGI60-11.00106_simple_en_only_oggm_v0.png</td>\n",
       "      <td>RGI60-11.00106_complex_en_only_oggm_v0.png</td>\n",
       "      <td>Austria</td>\n",
       "      <td>Pasterze_large.jpg</td>\n",
       "      <td>Gernot Weyss, 2015</td>\n",
       "    </tr>\n",
       "    <tr>\n",
       "      <th>RGI60-11.01238</th>\n",
       "      <td>8.3965</td>\n",
       "      <td>46.6236</td>\n",
       "      <td>Rhone</td>\n",
       "      <td>2090.0</td>\n",
       "      <td>2066.0</td>\n",
       "      <td>NaN</td>\n",
       "      <td>1.244</td>\n",
       "      <td>RGI60-11.01238_simple_en_only_oggm_v0.png</td>\n",
       "      <td>RGI60-11.01238_complex_en_only_oggm_v0.png</td>\n",
       "      <td>Swiss</td>\n",
       "      <td>Rhone.jpeg</td>\n",
       "      <td>Remeo Walser, 2018</td>\n",
       "    </tr>\n",
       "    <tr>\n",
       "      <th>RGI60-11.03887</th>\n",
       "      <td>11.8710</td>\n",
       "      <td>46.4380</td>\n",
       "      <td>Marmolada</td>\n",
       "      <td>2053.0</td>\n",
       "      <td>2047.0</td>\n",
       "      <td>2070.0</td>\n",
       "      <td>0.026</td>\n",
       "      <td>RGI60-11.03887_simple_en_only_oggm_v0.png</td>\n",
       "      <td>RGI60-11.03887_complex_en_only_oggm_v0.png</td>\n",
       "      <td>Italy</td>\n",
       "      <td>marmolada.jpg</td>\n",
       "      <td>Huss Matthias, 2009</td>\n",
       "    </tr>\n",
       "    <tr>\n",
       "      <th>RGI60-11.03671</th>\n",
       "      <td>6.6290</td>\n",
       "      <td>45.2950</td>\n",
       "      <td>Gebroulaz</td>\n",
       "      <td>2068.0</td>\n",
       "      <td>2057.0</td>\n",
       "      <td>2087.0</td>\n",
       "      <td>0.162</td>\n",
       "      <td>RGI60-11.03671_simple_en_only_oggm_v0.png</td>\n",
       "      <td>RGI60-11.03671_complex_en_only_oggm_v0.png</td>\n",
       "      <td>France</td>\n",
       "      <td>gebroulaz.jpg</td>\n",
       "      <td>Peccini Stephan, 2014</td>\n",
       "    </tr>\n",
       "  </tbody>\n",
       "</table>\n",
       "</div>"
      ],
      "text/plain": [
       "                 CenLon   CenLat             name   \n",
       "RGI60-11.00897  10.7584  46.8003  Hintereisferner  \\\n",
       "RGI60-11.00106  12.6967  47.0991         Pasterze   \n",
       "RGI60-11.01238   8.3965  46.6236            Rhone   \n",
       "RGI60-11.03887  11.8710  46.4380        Marmolada   \n",
       "RGI60-11.03671   6.6290  45.2950        Gebroulaz   \n",
       "\n",
       "                deglac_yr_2.7deg_10perc_q50  deglac_yr_2.7deg_10perc_q17   \n",
       "RGI60-11.00897                       2052.0                       2047.0  \\\n",
       "RGI60-11.00106                       2065.0                       2059.0   \n",
       "RGI60-11.01238                       2090.0                       2066.0   \n",
       "RGI60-11.03887                       2053.0                       2047.0   \n",
       "RGI60-11.03671                       2068.0                       2057.0   \n",
       "\n",
       "                deglac_yr_2.7deg_10perc_q83  vol2020_km3   \n",
       "RGI60-11.00897                       2070.0        0.398  \\\n",
       "RGI60-11.00106                       2080.0        1.194   \n",
       "RGI60-11.01238                          NaN        1.244   \n",
       "RGI60-11.03887                       2070.0        0.026   \n",
       "RGI60-11.03671                       2087.0        0.162   \n",
       "\n",
       "                                       fig_proj_simple_en   \n",
       "RGI60-11.00897  RGI60-11.00897_simple_en_only_oggm_v0.png  \\\n",
       "RGI60-11.00106  RGI60-11.00106_simple_en_only_oggm_v0.png   \n",
       "RGI60-11.01238  RGI60-11.01238_simple_en_only_oggm_v0.png   \n",
       "RGI60-11.03887  RGI60-11.03887_simple_en_only_oggm_v0.png   \n",
       "RGI60-11.03671  RGI60-11.03671_simple_en_only_oggm_v0.png   \n",
       "\n",
       "                                       fig_proj_complex_en  country   \n",
       "RGI60-11.00897  RGI60-11.00897_complex_en_only_oggm_v0.png  Austria  \\\n",
       "RGI60-11.00106  RGI60-11.00106_complex_en_only_oggm_v0.png  Austria   \n",
       "RGI60-11.01238  RGI60-11.01238_complex_en_only_oggm_v0.png    Swiss   \n",
       "RGI60-11.03887  RGI60-11.03887_complex_en_only_oggm_v0.png    Italy   \n",
       "RGI60-11.03671  RGI60-11.03671_complex_en_only_oggm_v0.png   France   \n",
       "\n",
       "                                    photo           photo_credit  \n",
       "RGI60-11.00897  Hintereisferner_large.jpg     Lambrecht A., 2006  \n",
       "RGI60-11.00106         Pasterze_large.jpg     Gernot Weyss, 2015  \n",
       "RGI60-11.01238                 Rhone.jpeg     Remeo Walser, 2018  \n",
       "RGI60-11.03887              marmolada.jpg    Huss Matthias, 2009  \n",
       "RGI60-11.03671              gebroulaz.jpg  Peccini Stephan, 2014  "
      ]
     },
     "execution_count": 44,
     "metadata": {},
     "output_type": "execute_result"
    }
   ],
   "source": [
    "df_mini"
   ]
  },
  {
   "cell_type": "code",
   "execution_count": 5,
   "id": "dfb25d53-0919-4e54-a5a9-eafd7890ea89",
   "metadata": {},
   "outputs": [
    {
     "name": "stdout",
     "output_type": "stream",
     "text": [
      "Dictionaris saved to /home/patrick/UNI/Projects/Pfiatdi_gletscher/animations_dicts.\n"
     ]
    }
   ],
   "source": [
    "output_json_path = '/home/patrick/UNI/Projects/Pfiatdi_gletscher/animations_dicts'\n",
    "create_glaciers_dict('mini_example.csv', output_json_path)"
   ]
  },
  {
   "cell_type": "code",
   "execution_count": null,
   "id": "36829a4d-66f2-4a70-9ef2-88e5845505c9",
   "metadata": {},
   "outputs": [],
   "source": []
  }
 ],
 "metadata": {
  "kernelspec": {
   "display_name": "Python [conda env:oggm_env]",
   "language": "python",
   "name": "conda-env-oggm_env-py"
  },
  "language_info": {
   "codemirror_mode": {
    "name": "ipython",
    "version": 3
   },
   "file_extension": ".py",
   "mimetype": "text/x-python",
   "name": "python",
   "nbconvert_exporter": "python",
   "pygments_lexer": "ipython3",
   "version": "3.11.3"
  }
 },
 "nbformat": 4,
 "nbformat_minor": 5
}
