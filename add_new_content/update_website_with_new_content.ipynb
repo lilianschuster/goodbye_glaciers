{
 "cells": [
  {
   "cell_type": "code",
   "execution_count": 1,
   "id": "bd3bc5dc-736a-4af6-a65d-d1a7ba530538",
   "metadata": {},
   "outputs": [],
   "source": [
    "from add_new_glacier.create_glacier_md import create_all_glacier_md\n",
    "from add_new_signpost.create_signpost_md import create_all_signpost_md\n",
    "from add_new_photo.create_photos_md import create_all_photo_md"
   ]
  },
  {
   "cell_type": "markdown",
   "id": "61e03fd9-f77f-48a2-8e3d-d96b6b976321",
   "metadata": {},
   "source": [
    "This notebook/script updates the website with new content.\n",
    "\n",
    "**It is important that the signposts are updated before the glaciers!**"
   ]
  },
  {
   "cell_type": "markdown",
   "id": "139fa49a-eec4-4dcf-b49c-1251f55bdd1c",
   "metadata": {},
   "source": [
    "# Create photo markdowns"
   ]
  },
  {
   "cell_type": "code",
   "execution_count": 2,
   "id": "50f9d1e7-5d9e-48c4-b09d-b977772c0e60",
   "metadata": {},
   "outputs": [
    {
     "name": "stdout",
     "output_type": "stream",
     "text": [
      "Creating photo markdowns\n",
      "Glacier photos:\n",
      "Markdown file RGI60-11.01238_photo1 created.\n",
      "Markdown file RGI60-11.03887_photo1 created.\n",
      "Markdown file RGI60-11.00106_photo1 created.\n",
      "Markdown file RGI60-11.00897_photo1 created.\n",
      "Markdown file RGI60-11.00897_photo2 created.\n",
      "Markdown file RGI60-11.03671_photo1 created.\n",
      "Markdown file RGI60-11.00593_photo1 created.\n",
      "\n",
      "Signpost photos:\n",
      "Markdown file prototype_draft_photo1 created.\n",
      "\n",
      "\n",
      "\n"
     ]
    }
   ],
   "source": [
    "print('Creating photo markdowns')\n",
    "create_all_photo_md()\n",
    "print('\\n\\n')"
   ]
  },
  {
   "cell_type": "markdown",
   "id": "61a088c8-762b-4e07-9d65-0bf55932e71a",
   "metadata": {},
   "source": [
    "# Create signpost markdowns"
   ]
  },
  {
   "cell_type": "code",
   "execution_count": 3,
   "id": "89acc5b5-5f29-41a5-a08a-f4bc92f497dc",
   "metadata": {},
   "outputs": [
    {
     "name": "stdout",
     "output_type": "stream",
     "text": [
      "Creating signpost markdowns\n",
      "Markdown file prototype_draft created.\n",
      "\n",
      "\n",
      "\n"
     ]
    }
   ],
   "source": [
    "print('Creating signpost markdowns')\n",
    "create_all_signpost_md()\n",
    "print('\\n\\n')"
   ]
  },
  {
   "cell_type": "markdown",
   "id": "7fc7a20b-83c6-4234-aa3e-5e8d32d27208",
   "metadata": {},
   "source": [
    "# Create glacier markdowns"
   ]
  },
  {
   "cell_type": "code",
   "execution_count": 4,
   "id": "20beb952-d669-4fd1-b484-1295f270f7bb",
   "metadata": {},
   "outputs": [
    {
     "name": "stdout",
     "output_type": "stream",
     "text": [
      "Creating glacier markdowns\n",
      "RGI60-11.01238: /assets/videos/glacier_animations/RGI60-11.01238_complex_en.mp4 does not exist!\n",
      "Markdown file RGI60-11.01238 created.\n",
      "RGI60-11.00106: /assets/videos/glacier_animations/RGI60-11.00106_complex_en.mp4 does not exist!\n",
      "Markdown file RGI60-11.00106 created.\n",
      "RGI60-11.03887: /assets/videos/glacier_animations/RGI60-11.03887_complex_en.mp4 does not exist!\n",
      "Markdown file RGI60-11.03887 created.\n",
      "RGI60-11.00897: /assets/videos/glacier_animations/RGI60-11.00897_complex_en.mp4 does not exist!\n",
      "Markdown file RGI60-11.00897 created.\n",
      "RGI60-11.00593: /assets/videos/glacier_animations/RGI60-11.00593_complex_en.mp4 does not exist!\n",
      "Markdown file RGI60-11.00593 created.\n",
      "RGI60-11.03671: /assets/videos/glacier_animations/RGI60-11.03671_complex_en.mp4 does not exist!\n",
      "Markdown file RGI60-11.03671 created.\n",
      "\n",
      "\n",
      "\n"
     ]
    }
   ],
   "source": [
    "print('Creating glacier markdowns')\n",
    "create_all_glacier_md()\n",
    "print('\\n\\n')"
   ]
  },
  {
   "cell_type": "code",
   "execution_count": null,
   "id": "ed73aa9d-2c61-4fe4-976f-2616a3dae39a",
   "metadata": {},
   "outputs": [],
   "source": []
  }
 ],
 "metadata": {
  "jupytext": {
   "formats": "ipynb,auto:light"
  },
  "kernelspec": {
   "display_name": "Python 3 (ipykernel)",
   "language": "python",
   "name": "python3"
  },
  "language_info": {
   "codemirror_mode": {
    "name": "ipython",
    "version": 3
   },
   "file_extension": ".py",
   "mimetype": "text/x-python",
   "name": "python",
   "nbconvert_exporter": "python",
   "pygments_lexer": "ipython3",
   "version": "3.8.15"
  }
 },
 "nbformat": 4,
 "nbformat_minor": 5
}
